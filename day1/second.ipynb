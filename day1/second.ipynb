{
 "cells": [
  {
   "cell_type": "code",
   "execution_count": 4,
   "metadata": {},
   "outputs": [],
   "source": [
    "from functools import reduce\n",
    "from collections import defaultdict"
   ]
  },
  {
   "cell_type": "code",
   "execution_count": 33,
   "metadata": {},
   "outputs": [],
   "source": [
    "with open(\"input.txt\") as inp:\n",
    "    text = inp.readlines()\n",
    "    nums = list(map(int, text))\n",
    "    \n",
    "\n",
    "freq = defaultdict(lambda: 0)\n",
    "    \n",
    "s = 0\n",
    "i = 0\n",
    "    \n",
    "while True:\n",
    "    freq[s] += 1\n",
    "    if freq[s] == 2:\n",
    "        ans = s\n",
    "        break\n",
    "    s += nums[i]\n",
    "    i = (i + 1) % len(nums)\n"
   ]
  },
  {
   "cell_type": "code",
   "execution_count": 34,
   "metadata": {},
   "outputs": [],
   "source": [
    "with open(\"out2.txt\", \"w\") as out:\n",
    "    out.write(str(ans) + \"\\n\")"
   ]
  }
 ],
 "metadata": {
  "kernelspec": {
   "display_name": "Python 3",
   "language": "python",
   "name": "python3"
  },
  "language_info": {
   "codemirror_mode": {
    "name": "ipython",
    "version": 3
   },
   "file_extension": ".py",
   "mimetype": "text/x-python",
   "name": "python",
   "nbconvert_exporter": "python",
   "pygments_lexer": "ipython3",
   "version": "3.7.0"
  }
 },
 "nbformat": 4,
 "nbformat_minor": 2
}
