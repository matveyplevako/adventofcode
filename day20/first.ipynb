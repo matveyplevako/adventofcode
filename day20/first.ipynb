{
 "cells": [
  {
   "cell_type": "code",
   "execution_count": 1,
   "metadata": {},
   "outputs": [
    {
     "name": "stdout",
     "output_type": "stream",
     "text": [
      "3721\n"
     ]
    }
   ],
   "source": [
    "from collections import defaultdict\n",
    "\n",
    "with open(\"input.txt\") as inp:\n",
    "    line = inp.readline().rstrip()\n",
    "\n",
    "letter_to_move = {\n",
    "    \"N\": (0, -1),\n",
    "    \"E\": (1, 0),\n",
    "    \"S\": (0, 1),\n",
    "    \"W\": (-1, 0)\n",
    "}\n",
    "\n",
    "positions = []\n",
    "x, y = 5000, 5000\n",
    "came_from = defaultdict(set)\n",
    "prev_x, prev_y = x, y\n",
    "distances = defaultdict(int)\n",
    "dist = 0\n",
    "for c in line[1:-1]:\n",
    "    if c == \"(\":\n",
    "        positions.append((x, y))\n",
    "    elif c == \")\":\n",
    "        x, y = positions.pop()\n",
    "    elif c == \"|\":\n",
    "        x, y = positions[-1]\n",
    "    else:\n",
    "        dx, dy = letter_to_move[c]\n",
    "        x += dx\n",
    "        y += dy\n",
    "        came_from[(x, y)].add((prev_x, prev_y))\n",
    "        if distances[(x, y)] != 0:\n",
    "            distances[(x, y)] = min(distances[(x, y)], distances[(prev_x, prev_y)] + 1)\n",
    "        else:\n",
    "            distances[(x, y)] = distances[(prev_x, prev_y)] + 1\n",
    "\n",
    "    prev_x, prev_y = x, y\n",
    "\n",
    "print(max(distances.values()))\n"
   ]
  }
 ],
 "metadata": {
  "kernelspec": {
   "display_name": "Python 3",
   "language": "python",
   "name": "python3"
  },
  "language_info": {
   "codemirror_mode": {
    "name": "ipython",
    "version": 3
   },
   "file_extension": ".py",
   "mimetype": "text/x-python",
   "name": "python",
   "nbconvert_exporter": "python",
   "pygments_lexer": "ipython3",
   "version": "3.7.0"
  }
 },
 "nbformat": 4,
 "nbformat_minor": 2
}
