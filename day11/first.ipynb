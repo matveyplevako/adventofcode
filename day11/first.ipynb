{
 "cells": [
  {
   "cell_type": "code",
   "execution_count": 1,
   "metadata": {},
   "outputs": [],
   "source": [
    "import numpy as np"
   ]
  },
  {
   "cell_type": "code",
   "execution_count": 2,
   "metadata": {},
   "outputs": [
    {
     "name": "stdout",
     "output_type": "stream",
     "text": [
      "21,41\n"
     ]
    }
   ],
   "source": [
    "grid_num = 1308\n",
    "\n",
    "field = np.zeros((300, 300))\n",
    "\n",
    "\n",
    "for y in range(1, 301):\n",
    "    for x in range(1, 301):\n",
    "        rack = x + 10\n",
    "        p = rack * y\n",
    "        p += grid_num\n",
    "        p *= rack \n",
    "        p = p % 1000 // 100\n",
    "        p -= 5\n",
    "        field[y-1, x-1] = p\n",
    "    \n",
    "m_s = -100\n",
    "m_xy = -1\n",
    "    \n",
    "for y in range(300 - 2):\n",
    "    for x in range(300 - 2):\n",
    "        c_xy = (x, y)\n",
    "        c_m = sum(field[y:y+3, x:x+3].flatten())\n",
    "        if c_m > m_s:\n",
    "            m_xy = c_xy\n",
    "            m_s = c_m\n",
    "\n",
    "ans = ','.join(map(str, [m_xy[0] + 1, m_xy[1] + 1]))\n",
    "print(ans)"
   ]
  },
  {
   "cell_type": "code",
   "execution_count": 3,
   "metadata": {},
   "outputs": [],
   "source": [
    "with open(\"out1.txt\", \"w\") as out:\n",
    "    out.write(ans + \"\\n\")"
   ]
  }
 ],
 "metadata": {
  "kernelspec": {
   "display_name": "Python 3",
   "language": "python",
   "name": "python3"
  },
  "language_info": {
   "codemirror_mode": {
    "name": "ipython",
    "version": 3
   },
   "file_extension": ".py",
   "mimetype": "text/x-python",
   "name": "python",
   "nbconvert_exporter": "python",
   "pygments_lexer": "ipython3",
   "version": "3.7.0"
  }
 },
 "nbformat": 4,
 "nbformat_minor": 2
}
