{
 "cells": [
  {
   "cell_type": "code",
   "execution_count": 162,
   "metadata": {},
   "outputs": [],
   "source": [
    "import numpy as np\n",
    "from collections import Counter\n",
    "# NOT VERY EFFECTIVE, (NOT FAST)\n",
    "\n",
    "points = []\n",
    "with open(\"input.txt\") as inp:\n",
    "    [points.append((x, y)) for x, y in map(lambda x: map(int, x.split(\", \")), inp.readlines())]\n",
    "    \n",
    "num_to_points = dict((i+2, points[i]) for i in range(len(points)))\n",
    "    \n",
    "def get_manh_distance(p1, p2):\n",
    "    assert len(p1) == len(p2)\n",
    "    return sum([abs(p1[i] - p2[i]) for i in range(len(p1))])\n",
    "\n",
    "def get_num_for_coord(xy):\n",
    "    length = []\n",
    "    for num in num_to_points:\n",
    "        dist = get_manh_distance(xy, num_to_points[num])\n",
    "        length.append((num, dist))\n",
    "    length.sort(key=lambda x: x[1])\n",
    "    if length[0][1] == length[1][1]:\n",
    "        return -1\n",
    "    return length[0][0]"
   ]
  },
  {
   "cell_type": "code",
   "execution_count": 165,
   "metadata": {},
   "outputs": [],
   "source": [
    "min_x = min(points, key=lambda x: x[0])[0]\n",
    "max_x = max(points, key=lambda x: x[0])[0]\n",
    "min_y = min(points, key=lambda x: x[1])[1]\n",
    "max_y = max(points, key=lambda x: x[1])[1]\n",
    "setka_size = max(max_x, max_y)\n",
    "\n",
    "pole = np.zeros((setka_size, setka_size))\n",
    "\n",
    "for x in range(setka_size):\n",
    "    for y in range(setka_size):\n",
    "        pole[x, y] = get_num_for_coord((x, y))"
   ]
  },
  {
   "cell_type": "code",
   "execution_count": 166,
   "metadata": {},
   "outputs": [
    {
     "name": "stdout",
     "output_type": "stream",
     "text": [
      "5532\n"
     ]
    }
   ],
   "source": [
    "blocked = 0\n",
    "goes_to_inf = set(pole[:, [0, -1]].flatten())\n",
    "goes_to_inf.update(set(pole[[0, -1], :].flatten()))\n",
    "\n",
    "for x in range(setka_size):\n",
    "    for y in range(setka_size):\n",
    "        if pole[x][y] in goes_to_inf:\n",
    "            pole[x][y] = -1\n",
    "        \n",
    "area_sizes = Counter(pole.flatten())\n",
    "ans = area_sizes.most_common(2)[1][1]\n",
    "print(ans)"
   ]
  },
  {
   "cell_type": "code",
   "execution_count": 167,
   "metadata": {},
   "outputs": [],
   "source": [
    "with open(\"out1.txt\", \"w\") as out:\n",
    "    out.write(str(ans) + \"\\n\")"
   ]
  }
 ],
 "metadata": {
  "kernelspec": {
   "display_name": "Python 3",
   "language": "python",
   "name": "python3"
  },
  "language_info": {
   "codemirror_mode": {
    "name": "ipython",
    "version": 3
   },
   "file_extension": ".py",
   "mimetype": "text/x-python",
   "name": "python",
   "nbconvert_exporter": "python",
   "pygments_lexer": "ipython3",
   "version": "3.7.0"
  }
 },
 "nbformat": 4,
 "nbformat_minor": 2
}
