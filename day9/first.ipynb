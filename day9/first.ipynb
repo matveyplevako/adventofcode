{
 "cells": [
  {
   "cell_type": "code",
   "execution_count": 1,
   "metadata": {},
   "outputs": [],
   "source": [
    "from collections import defaultdict\n",
    "import numpy as np\n",
    "\n",
    "with open(\"input.txt\") as inp:\n",
    "    players, scores = map(int, inp.readline().split()[::6])"
   ]
  },
  {
   "cell_type": "code",
   "execution_count": 2,
   "metadata": {},
   "outputs": [
    {
     "data": {
      "text/plain": [
       "375414"
      ]
     },
     "execution_count": 2,
     "metadata": {},
     "output_type": "execute_result"
    }
   ],
   "source": [
    "pole = np.array([0])\n",
    "player_score = defaultdict(lambda: 0)\n",
    "player = 0\n",
    "current_marble_ind = 0\n",
    "for marble in range(1, scores + 1):\n",
    "    if marble % 23 == 0:\n",
    "        player_score[player] += marble\n",
    "        if current_marble_ind - 7 < 0:\n",
    "            dif = 7 - current_marble_ind\n",
    "            current_marble_ind = len(pole) - dif\n",
    "        else:\n",
    "            current_marble_ind -= 7\n",
    "        player_score[player] += pole[current_marble_ind+1]\n",
    "        pole = np.delete(pole, current_marble_ind+1)\n",
    "\n",
    "    else:\n",
    "        to_place = (current_marble_ind + 2) % (len(pole))\n",
    "        pole = np.insert(pole, to_place+1, marble)\n",
    "        current_marble_ind = to_place\n",
    "\n",
    "    player = (player + 1) % players\n",
    "    \n",
    "ans = max(player_score.values())\n",
    "ans"
   ]
  },
  {
   "cell_type": "code",
   "execution_count": 3,
   "metadata": {},
   "outputs": [],
   "source": [
    "with open(\"out1.txt\", \"w\") as out:\n",
    "    out.write(str(ans) + \"\\n\")"
   ]
  }
 ],
 "metadata": {
  "kernelspec": {
   "display_name": "Python 3",
   "language": "python",
   "name": "python3"
  },
  "language_info": {
   "codemirror_mode": {
    "name": "ipython",
    "version": 3
   },
   "file_extension": ".py",
   "mimetype": "text/x-python",
   "name": "python",
   "nbconvert_exporter": "python",
   "pygments_lexer": "ipython3",
   "version": "3.7.0"
  }
 },
 "nbformat": 4,
 "nbformat_minor": 2
}
