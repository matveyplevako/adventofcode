{
 "cells": [
  {
   "cell_type": "code",
   "execution_count": 6,
   "metadata": {},
   "outputs": [
    {
     "data": {
      "text/plain": [
       "5094"
      ]
     },
     "execution_count": 6,
     "metadata": {},
     "output_type": "execute_result"
    }
   ],
   "source": [
    "import re\n",
    "\n",
    "with open(\"input.txt\") as inp:\n",
    "    poly = list(inp.readline().strip())    \n",
    "\n",
    "def same(poly, i, i1):\n",
    "    return poly[i].lower() == poly[i1].lower() and poly[i] != poly[i1]\n",
    "\n",
    "def collapse(poly):\n",
    "    i = 0\n",
    "    while i < len(poly):\n",
    "        while i+1 < len(poly) and i >= 0 and same(poly, i, i+1):\n",
    "            del poly[i:i+2]\n",
    "            i -= 1\n",
    "        else:\n",
    "            i += 1\n",
    "    return poly\n",
    "\n",
    "poly = ''.join(poly)\n",
    "m = len(poly)\n",
    "for c in set(poly.lower()):\n",
    "    poly_list = list(re.sub(\"[{}{}]\".format(c, c.upper()), \"\", poly))\n",
    "    poly_list = collapse(poly_list)\n",
    "    m = min(m, len(poly_list))\n",
    "    \n",
    "ans = m\n",
    "m"
   ]
  },
  {
   "cell_type": "code",
   "execution_count": 7,
   "metadata": {},
   "outputs": [],
   "source": [
    "with open(\"out2.txt\", \"w\") as out:\n",
    "    out.write(str(ans) + \"\\n\")"
   ]
  }
 ],
 "metadata": {
  "kernelspec": {
   "display_name": "Python 3",
   "language": "python",
   "name": "python3"
  },
  "language_info": {
   "codemirror_mode": {
    "name": "ipython",
    "version": 3
   },
   "file_extension": ".py",
   "mimetype": "text/x-python",
   "name": "python",
   "nbconvert_exporter": "python",
   "pygments_lexer": "ipython3",
   "version": "3.7.0"
  }
 },
 "nbformat": 4,
 "nbformat_minor": 2
}
