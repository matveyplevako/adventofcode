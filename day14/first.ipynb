{
 "cells": [
  {
   "cell_type": "code",
   "execution_count": 1,
   "metadata": {},
   "outputs": [
    {
     "name": "stdout",
     "output_type": "stream",
     "text": [
      "9411137133\n"
     ]
    }
   ],
   "source": [
    "inp = 157901\n",
    "\n",
    "rec = [3, 7]\n",
    "f, s = 0, 1\n",
    "\n",
    "def create_new_rec(f, s, rec):\n",
    "    new_rec = rec[f] + rec[s]\n",
    "    if new_rec // 10 != 0:\n",
    "        rec.append(new_rec//10)\n",
    "    rec.append(new_rec % 10)\n",
    "    f = (f + rec[f] + 1) % len(rec)\n",
    "    s = (s + rec[s] + 1) % len(rec)\n",
    "    return f, s, rec\n",
    "    \n",
    "i = 0\n",
    "while len(rec) < inp + 10:\n",
    "    i += 1\n",
    "    f, s, rec = create_new_rec(f, s, rec)\n",
    "print(''.join(map(str,rec[inp:inp+10])))"
   ]
  }
 ],
 "metadata": {
  "kernelspec": {
   "display_name": "Python 3",
   "language": "python",
   "name": "python3"
  },
  "language_info": {
   "codemirror_mode": {
    "name": "ipython",
    "version": 3
   },
   "file_extension": ".py",
   "mimetype": "text/x-python",
   "name": "python",
   "nbconvert_exporter": "python",
   "pygments_lexer": "ipython3",
   "version": "3.7.0"
  }
 },
 "nbformat": 4,
 "nbformat_minor": 2
}
