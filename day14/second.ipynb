{
 "cells": [
  {
   "cell_type": "code",
   "execution_count": 1,
   "metadata": {},
   "outputs": [
    {
     "name": "stdout",
     "output_type": "stream",
     "text": [
      "20317612\n"
     ]
    }
   ],
   "source": [
    "inp = \"157901\"\n",
    "\n",
    "rec = \"37\"\n",
    "f, s = 0, 1\n",
    "\n",
    "while True:\n",
    "    rec += str(int(rec[f]) + int(rec[s]))\n",
    "    f = (f + int(rec[f]) + 1) % len(rec)\n",
    "    s = (s + int(rec[s]) + 1) % len(rec)\n",
    "    if inp in rec[-10:] or inp in rec[-11:-1]:\n",
    "        print(len(rec[:rec.index(inp)]))\n",
    "        break"
   ]
  }
 ],
 "metadata": {
  "kernelspec": {
   "display_name": "Python 3",
   "language": "python",
   "name": "python3"
  },
  "language_info": {
   "codemirror_mode": {
    "name": "ipython",
    "version": 3
   },
   "file_extension": ".py",
   "mimetype": "text/x-python",
   "name": "python",
   "nbconvert_exporter": "python",
   "pygments_lexer": "ipython3",
   "version": "3.7.0"
  }
 },
 "nbformat": 4,
 "nbformat_minor": 2
}
