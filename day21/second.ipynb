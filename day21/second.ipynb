{
 "cells": [
  {
   "cell_type": "code",
   "execution_count": 1,
   "metadata": {},
   "outputs": [
    {
     "name": "stdout",
     "output_type": "stream",
     "text": [
      "13943296\n"
     ]
    }
   ],
   "source": [
    "seen = set()\n",
    "answer = 0\n",
    "\n",
    "r4 = 0\n",
    "r3 = 0\n",
    "to_and = 0\n",
    "to_mul = 0\n",
    "to_or = 0\n",
    "to_set = 0\n",
    "with open(\"input.txt\") as inp:\n",
    "    for ind, line in enumerate(inp.readlines()):\n",
    "        if ind == 0:\n",
    "            continue\n",
    "        op, *val = line.split()\n",
    "        if ind == 7:\n",
    "            val = int(val[1])\n",
    "            r4 = val\n",
    "            to_or = val\n",
    "        if ind == 8:\n",
    "            val = int(val[0])\n",
    "            r3 = val\n",
    "            to_set = val\n",
    "        if ind == 11:\n",
    "            val = int(val[1])\n",
    "            to_and = val\n",
    "        if ind == 12:\n",
    "            val = int(val[1])\n",
    "            to_mul = val\n",
    "\n",
    "while True:\n",
    "    r3 += r4 & 255\n",
    "    r3 &= to_and\n",
    "    r3 = (r3 * to_mul) & to_and\n",
    "    if 256 > r4:\n",
    "        if r3 in seen:\n",
    "            print(answer)\n",
    "            break\n",
    "        answer = r3\n",
    "        seen.add(r3)\n",
    "        r4 = r3 | to_or\n",
    "        r3 = to_set\n",
    "    else:\n",
    "        r4 //= 256"
   ]
  }
 ],
 "metadata": {
  "kernelspec": {
   "display_name": "Python 3",
   "language": "python",
   "name": "python3"
  },
  "language_info": {
   "codemirror_mode": {
    "name": "ipython",
    "version": 3
   },
   "file_extension": ".py",
   "mimetype": "text/x-python",
   "name": "python",
   "nbconvert_exporter": "python",
   "pygments_lexer": "ipython3",
   "version": "3.7.0"
  }
 },
 "nbformat": 4,
 "nbformat_minor": 2
}
