{
 "cells": [
  {
   "cell_type": "code",
   "execution_count": 1,
   "metadata": {},
   "outputs": [
    {
     "name": "stdout",
     "output_type": "stream",
     "text": [
      "709 502\n",
      "355918\n"
     ]
    }
   ],
   "source": [
    "import numpy as np\n",
    "\n",
    "field = []\n",
    "\n",
    "with open(\"input.txt\") as inp:\n",
    "    for line in map(lambda x: x.rstrip(), inp.readlines()):\n",
    "        field.append(list(line))\n",
    "\n",
    "field = np.array(field)\n",
    "\n",
    "def minute():\n",
    "    new_field = field.copy()\n",
    "    for i in range(len(field)):\n",
    "        for j in range(len(field[i])):\n",
    "            near = list(field[max(i - 1, 0):min(len(field), i + 2), max(j - 1, 0):min(len(field[i]), j + 2)].flatten())\n",
    "            if field[i, j] == \".\" and near.count(\"|\") >= 3:\n",
    "                new_field[i][j] = \"|\"\n",
    "            elif field[i, j] == \"|\" and near.count(\"#\") >= 3:\n",
    "                new_field[i][j] = \"#\"\n",
    "            if field[i, j] == \"#\":\n",
    "                if not (near.count(\"#\") >= 2 and near.count(\"|\") >= 1):\n",
    "                    new_field[i][j] = \".\"\n",
    "    return np.array(new_field)\n",
    "\n",
    "\n",
    "for i in range(10):\n",
    "    field = minute()\n",
    "wood = 0\n",
    "lumberyards = 0\n",
    "for elem in field.flatten():\n",
    "    if elem == \"|\":\n",
    "        wood += 1\n",
    "    elif elem == \"#\":\n",
    "        lumberyards += 1\n",
    "\n",
    "print(wood, lumberyards)\n",
    "print(wood * lumberyards)"
   ]
  }
 ],
 "metadata": {
  "kernelspec": {
   "display_name": "Python 3",
   "language": "python",
   "name": "python3"
  },
  "language_info": {
   "codemirror_mode": {
    "name": "ipython",
    "version": 3
   },
   "file_extension": ".py",
   "mimetype": "text/x-python",
   "name": "python",
   "nbconvert_exporter": "python",
   "pygments_lexer": "ipython3",
   "version": "3.7.0"
  }
 },
 "nbformat": 4,
 "nbformat_minor": 2
}
