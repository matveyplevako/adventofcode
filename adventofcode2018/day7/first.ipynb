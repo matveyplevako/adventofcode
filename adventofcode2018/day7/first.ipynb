{
 "cells": [
  {
   "cell_type": "code",
   "execution_count": 1,
   "metadata": {},
   "outputs": [],
   "source": [
    "from collections import defaultdict"
   ]
  },
  {
   "cell_type": "code",
   "execution_count": 2,
   "metadata": {},
   "outputs": [
    {
     "data": {
      "text/plain": [
       "'FHMEQGIRSXNWZBCLOTUADJPKVY'"
      ]
     },
     "execution_count": 2,
     "metadata": {},
     "output_type": "execute_result"
    }
   ],
   "source": [
    "directions = defaultdict(lambda: [])\n",
    "need_to_complete = defaultdict(lambda: 0)\n",
    "points = set()\n",
    "with open(\"input.txt\") as inp:\n",
    "    for line in inp.readlines():\n",
    "        start, end = line.split()[1:8:6]\n",
    "        need_to_complete[end] += 1\n",
    "        directions[start].append(end)\n",
    "        points.add(start)\n",
    "        points.add(end)\n",
    "\n",
    "ans = []\n",
    "\n",
    "while len(points) > 0:\n",
    "    aval = []\n",
    "    for p in points:\n",
    "        if need_to_complete[p] == 0:\n",
    "            aval.append(p)\n",
    "            \n",
    "    to_del = min(aval)\n",
    "    for p in directions[to_del]:\n",
    "        need_to_complete[p] -= 1\n",
    "        \n",
    "    ans.append(to_del)\n",
    "    points.remove(to_del)\n",
    "    \n",
    "ans = ''.join(ans)\n",
    "ans"
   ]
  },
  {
   "cell_type": "code",
   "execution_count": 3,
   "metadata": {},
   "outputs": [],
   "source": [
    "with open(\"out1.txt\", \"w\") as out:\n",
    "    out.write(ans + \"\\n\")"
   ]
  }
 ],
 "metadata": {
  "kernelspec": {
   "display_name": "Python 3",
   "language": "python",
   "name": "python3"
  },
  "language_info": {
   "codemirror_mode": {
    "name": "ipython",
    "version": 3
   },
   "file_extension": ".py",
   "mimetype": "text/x-python",
   "name": "python",
   "nbconvert_exporter": "python",
   "pygments_lexer": "ipython3",
   "version": "3.7.0"
  }
 },
 "nbformat": 4,
 "nbformat_minor": 2
}
