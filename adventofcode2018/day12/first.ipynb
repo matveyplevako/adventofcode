{
 "cells": [
  {
   "cell_type": "code",
   "execution_count": 1,
   "metadata": {},
   "outputs": [
    {
     "data": {
      "text/plain": [
       "3421"
      ]
     },
     "execution_count": 1,
     "metadata": {},
     "output_type": "execute_result"
    }
   ],
   "source": [
    "spread = {}\n",
    "\n",
    "with open(\"input.txt\") as inp:\n",
    "    state = list(inp.readline().split()[-1])\n",
    "    inp.readline()\n",
    "    for line in map(lambda x: x.rstrip(), inp.readlines()):\n",
    "        pos, next_gen = line.split()[::2]\n",
    "        spread[pos] = next_gen\n",
    "\n",
    "\n",
    "def move(state, gen=1, c=0):\n",
    "    for i in range(gen):\n",
    "        state = list(\".....\") + state + list(\".....\")\n",
    "        c += 5\n",
    "        new_state = state.copy()\n",
    "        for position in range(len(state) - 4):\n",
    "            assert position + 4 < len(state)\n",
    "            next_gen = spread[''.join(state[position:position + 5])]\n",
    "            new_state[position + 2] = next_gen\n",
    "        state = new_state\n",
    "    return state, c\n",
    "\n",
    "def to_sum(state, c):\n",
    "    return sum([ind for ind, elem in enumerate(state[c:]) if elem == \"#\"]) -\\\n",
    "           sum([ind for ind, elem in enumerate(state[:c][::-1]) if elem == \"#\"])\n",
    "\n",
    "state, c = move(state, 20)\n",
    "pot_sum = to_sum(state, c)\n",
    "ans = pot_sum\n",
    "ans"
   ]
  },
  {
   "cell_type": "code",
   "execution_count": 2,
   "metadata": {},
   "outputs": [],
   "source": [
    "with open(\"out1.txt\", \"w\") as out:\n",
    "    out.write(str(ans) + \"\\n\")"
   ]
  }
 ],
 "metadata": {
  "kernelspec": {
   "display_name": "Python 3",
   "language": "python",
   "name": "python3"
  },
  "language_info": {
   "codemirror_mode": {
    "name": "ipython",
    "version": 3
   },
   "file_extension": ".py",
   "mimetype": "text/x-python",
   "name": "python",
   "nbconvert_exporter": "python",
   "pygments_lexer": "ipython3",
   "version": "3.7.0"
  }
 },
 "nbformat": 4,
 "nbformat_minor": 2
}
