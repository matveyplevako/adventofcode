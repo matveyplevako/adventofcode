{
 "cells": [
  {
   "cell_type": "code",
   "execution_count": 1,
   "metadata": {},
   "outputs": [
    {
     "data": {
      "text/plain": [
       "3212"
      ]
     },
     "execution_count": 1,
     "metadata": {},
     "output_type": "execute_result"
    }
   ],
   "source": [
    "from datetime import datetime\n",
    "from collections import defaultdict, Counter\n",
    "from functools import reduce\n",
    "import numpy as np\n",
    "with open(\"input.txt\") as inp:\n",
    "    records = []\n",
    "    for line in map(lambda x: x.rstrip(), inp.readlines()):\n",
    "        date, time, action = line.split(maxsplit=2)\n",
    "        date_time = date[1:] + \" \" + time[:-1]\n",
    "        date = datetime.fromisoformat(date_time)\n",
    "        action = [\"sleep\" if \"asleep\" in action else \"wakes\" if \n",
    "                  \"wakes up\" in action else action.split()[1][1:]]\n",
    "        records.append((date, action[0]))\n",
    "        \n",
    "    chronological_order = sorted(records, key=lambda x: x[0])\n",
    "    guard_on_duty = -1\n",
    "    #  time_slept_by_guard: key=guard, value=[[(time_fall_asleep, time_woke_up),...], total_seconds_slept]\n",
    "    #  fall_asleep_time for tracking time guard slept\n",
    "    time_slept_by_guard = defaultdict(lambda: [[], 0])\n",
    "    fall_asleep_time = None\n",
    "    for time, action in chronological_order:\n",
    "        if action.isdigit():\n",
    "            guard_on_duty = int(action)\n",
    "        elif action == \"sleep\":\n",
    "            fall_asleep_time = time\n",
    "        else:\n",
    "            time_slept_by_guard[guard_on_duty][0].append((fall_asleep_time, time))\n",
    "            slept = time - fall_asleep_time\n",
    "            time_slept_by_guard[guard_on_duty][1] += slept.seconds\n",
    "    \n",
    "    \n",
    "sleepy_guard = max(time_slept_by_guard, key=lambda x: time_slept_by_guard[x][1])\n",
    "slept_time = list(map(lambda x: (x[0].minute, x[1].minute), time_slept_by_guard[sleepy_guard][0]))\n",
    "ranges_of_sleep = list(map(lambda x: list(np.arange(x[0], x[1])), slept_time))\n",
    "minutes_slept = Counter(reduce(lambda x, y: x + y, ranges_of_sleep))\n",
    "most_common = minutes_slept.most_common(1)[0][0]\n",
    "ans = sleepy_guard * most_common\n",
    "ans"
   ]
  },
  {
   "cell_type": "code",
   "execution_count": 2,
   "metadata": {},
   "outputs": [],
   "source": [
    "with open(\"out1.txt\", \"w\") as out:\n",
    "    out.write(str(ans) + \"\\n\")"
   ]
  }
 ],
 "metadata": {
  "kernelspec": {
   "display_name": "Python 3",
   "language": "python",
   "name": "python3"
  },
  "language_info": {
   "codemirror_mode": {
    "name": "ipython",
    "version": 3
   },
   "file_extension": ".py",
   "mimetype": "text/x-python",
   "name": "python",
   "nbconvert_exporter": "python",
   "pygments_lexer": "ipython3",
   "version": "3.7.0"
  }
 },
 "nbformat": 4,
 "nbformat_minor": 2
}
