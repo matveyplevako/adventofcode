{
 "cells": [
  {
   "cell_type": "code",
   "execution_count": 23,
   "metadata": {},
   "outputs": [
    {
     "data": {
      "text/plain": [
       "4966"
      ]
     },
     "execution_count": 23,
     "metadata": {},
     "output_type": "execute_result"
    }
   ],
   "source": [
    "from datetime import datetime\n",
    "from collections import defaultdict, Counter\n",
    "from functools import reduce\n",
    "import numpy as np\n",
    "with open(\"input.txt\") as inp:\n",
    "    records = []\n",
    "    for line in map(lambda x: x.rstrip(), inp.readlines()):\n",
    "        date, time, action = line.split(maxsplit=2)\n",
    "        date_time = date[1:] + \" \" + time[:-1]\n",
    "        date = datetime.fromisoformat(date_time)\n",
    "        action = [\"sleep\" if \"asleep\" in action else \"wakes\" if \n",
    "                  \"wakes up\" in action else action.split()[1][1:]]\n",
    "        records.append((date, action[0]))\n",
    "        \n",
    "    chronological_order = sorted(records, key=lambda x: x[0])\n",
    "    guard_on_duty = -1\n",
    "    #  time_slept_by_guard: key=guard, value=[[(time_fall_asleep, time_woke_up),...], \n",
    "    #                                             frequency_of_minutes]\n",
    "    #  fall_asleep_time for tracking time guard slept\n",
    "    time_slept_by_guard = defaultdict(lambda: [[], Counter()])\n",
    "    fall_asleep_time = None\n",
    "    for time, action in chronological_order:\n",
    "        if action.isdigit():\n",
    "            guard_on_duty = int(action)\n",
    "        elif action == \"sleep\":\n",
    "            fall_asleep_time = time\n",
    "        else:\n",
    "            time_slept_by_guard[guard_on_duty][0].append((fall_asleep_time, time))\n",
    "            time - fall_asleep_time\n",
    "            start_sleep, end_sleep = fall_asleep_time.minute, time.minute\n",
    "            time_slept_by_guard[guard_on_duty][1] += Counter(np.arange(start_sleep, end_sleep))\n",
    "            \n",
    "punctual_sleepy_guard = max(time_slept_by_guard, key=lambda x: \n",
    "                            time_slept_by_guard[x][1].most_common(1)[0][1])\n",
    "punctual_sleepy_guard\n",
    "most_common_minute = time_slept_by_guard[punctual_sleepy_guard][1].most_common(1)[0][0]\n",
    "ans = most_common_minute * punctual_sleepy_guard\n",
    "ans"
   ]
  },
  {
   "cell_type": "code",
   "execution_count": 24,
   "metadata": {},
   "outputs": [],
   "source": [
    "with open(\"out2.txt\", \"w\") as out:\n",
    "    out.write(str(out) + '\\n')"
   ]
  }
 ],
 "metadata": {
  "kernelspec": {
   "display_name": "Python 3",
   "language": "python",
   "name": "python3"
  },
  "language_info": {
   "codemirror_mode": {
    "name": "ipython",
    "version": 3
   },
   "file_extension": ".py",
   "mimetype": "text/x-python",
   "name": "python",
   "nbconvert_exporter": "python",
   "pygments_lexer": "ipython3",
   "version": "3.7.0"
  }
 },
 "nbformat": 4,
 "nbformat_minor": 2
}
