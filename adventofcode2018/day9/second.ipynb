{
 "cells": [
  {
   "cell_type": "code",
   "execution_count": 1,
   "metadata": {},
   "outputs": [],
   "source": [
    "from collections import defaultdict, deque\n",
    "import numpy as np\n",
    "\n",
    "with open(\"input.txt\") as inp:\n",
    "    players, points = map(int, inp.readline().split()[::6])\n",
    "    points *= 100"
   ]
  },
  {
   "cell_type": "code",
   "execution_count": 2,
   "metadata": {},
   "outputs": [
    {
     "data": {
      "text/plain": [
       "3168033673"
      ]
     },
     "execution_count": 2,
     "metadata": {},
     "output_type": "execute_result"
    }
   ],
   "source": [
    "board, scores, player = deque(), {}, 0\n",
    "board.append(0)\n",
    "for marble in range(1, points + 1):\n",
    "    multiple = marble % 23 == 0\n",
    "    if multiple:\n",
    "        board.rotate(7)\n",
    "        scores[player] = scores.get(player, 0) + marble + board.pop()\n",
    "    board.rotate(-1)\n",
    "    if not multiple:\n",
    "        board.append(marble)\n",
    "    player = (player + 1) % players\n",
    "ans = max(scores.values())\n",
    "ans"
   ]
  },
  {
   "cell_type": "code",
   "execution_count": 3,
   "metadata": {},
   "outputs": [],
   "source": [
    "with open(\"out2.txt\", \"w\") as out:\n",
    "    out.write(str(ans) + \"\\n\")"
   ]
  }
 ],
 "metadata": {
  "kernelspec": {
   "display_name": "Python 3",
   "language": "python",
   "name": "python3"
  },
  "language_info": {
   "codemirror_mode": {
    "name": "ipython",
    "version": 3
   },
   "file_extension": ".py",
   "mimetype": "text/x-python",
   "name": "python",
   "nbconvert_exporter": "python",
   "pygments_lexer": "ipython3",
   "version": "3.7.0"
  }
 },
 "nbformat": 4,
 "nbformat_minor": 2
}
