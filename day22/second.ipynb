{
 "cells": [
  {
   "cell_type": "code",
   "execution_count": 1,
   "metadata": {},
   "outputs": [
    {
     "name": "stdout",
     "output_type": "stream",
     "text": [
      "992\n"
     ]
    }
   ],
   "source": [
    "import numpy as np\n",
    "from heapq import heappop, heappush\n",
    "\n",
    "with open(\"input.txt\") as inp:\n",
    "    depth = int(inp.readline().split()[1])\n",
    "    i_j = inp.readline().split()[1]\n",
    "    target_j, target_i = map(int, i_j.split(\",\"))\n",
    "    target = np.array([target_i, target_j])\n",
    "\n",
    "extend_by = 1000\n",
    "\n",
    "erosion_level = np.empty(target + extend_by, dtype=int)\n",
    "region_type = np.empty(target + extend_by, dtype=int)\n",
    "\n",
    "c = {\n",
    "    0: \".\",\n",
    "    1: \"=\",\n",
    "    2: \"|\"\n",
    "}\n",
    "\n",
    "\n",
    "def string_field():\n",
    "    for i in range(len(region_type)):\n",
    "        print(''.join(list(map(lambda x: c[x], region_type[i]))))\n",
    "\n",
    "\n",
    "for i in range(target[0] + extend_by):\n",
    "    for j in range(target[1] + extend_by):\n",
    "        if (i == 0 and j == 0) or (i, j) == tuple(target):\n",
    "            geologic_index = 0\n",
    "        elif i == 0:\n",
    "            geologic_index = j * 16807\n",
    "        elif j == 0:\n",
    "            geologic_index = i * 48271\n",
    "        else:\n",
    "            geologic_index = erosion_level[i - 1, j] * erosion_level[i, j - 1]\n",
    "\n",
    "        erosion_level[i, j] = (geologic_index + depth) % 20183\n",
    "        region_type[i, j] = erosion_level[i, j] % 3\n",
    "\n",
    "queue = [(0, 0, 0, 1)]\n",
    "best = dict()\n",
    "\n",
    "target = (*target, 1)\n",
    "\n",
    "while queue:\n",
    "    minutes, x, y, cannot = heappop(queue)\n",
    "    best_key = (x, y, cannot)\n",
    "    if best_key in best and best[best_key] <= minutes:\n",
    "        continue\n",
    "    best[best_key] = minutes\n",
    "    if best_key == target:\n",
    "        print(minutes)\n",
    "        break\n",
    "    for i in range(3):\n",
    "        if i != cannot and i != region_type[x, y] % 3:\n",
    "            heappush(queue, (minutes + 7, x, y, i))\n",
    "\n",
    "    for dx, dy in [[-1, 0], [1, 0], [0, -1], [0, 1]]:\n",
    "        newx = x + dx\n",
    "        newy = y + dy\n",
    "        if newx < 0:\n",
    "            continue\n",
    "        if newy < 0:\n",
    "            continue\n",
    "        if region_type[newx, newy] == cannot:\n",
    "            continue\n",
    "        heappush(queue, (minutes + 1, newx, newy, cannot))"
   ]
  }
 ],
 "metadata": {
  "kernelspec": {
   "display_name": "Python 3",
   "language": "python",
   "name": "python3"
  },
  "language_info": {
   "codemirror_mode": {
    "name": "ipython",
    "version": 3
   },
   "file_extension": ".py",
   "mimetype": "text/x-python",
   "name": "python",
   "nbconvert_exporter": "python",
   "pygments_lexer": "ipython3",
   "version": "3.7.0"
  }
 },
 "nbformat": 4,
 "nbformat_minor": 2
}
