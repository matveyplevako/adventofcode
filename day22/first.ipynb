{
 "cells": [
  {
   "cell_type": "code",
   "execution_count": 1,
   "metadata": {},
   "outputs": [
    {
     "name": "stdout",
     "output_type": "stream",
     "text": [
      "8090\n"
     ]
    }
   ],
   "source": [
    "import numpy as np\n",
    "\n",
    "with open(\"input.txt\") as inp:\n",
    "    depth = int(inp.readline().split()[1])\n",
    "    i_j = inp.readline().split()[1]\n",
    "    target_j, target_i = map(int, i_j.split(\",\"))\n",
    "    target = np.array([target_i, target_j])\n",
    "\n",
    "erosion_level = np.empty(target + 1, dtype=int)\n",
    "region_type = np.empty(target + 1, dtype=int)\n",
    "\n",
    "c = {\n",
    "    0: \".\",\n",
    "    1: \"=\",\n",
    "    2: \"|\"\n",
    "}\n",
    "\n",
    "\n",
    "for i in range(target[0] + 1):\n",
    "    for j in range(target[1] + 1):\n",
    "        if (i == 0 and j == 0) or (i, j) == tuple(target):\n",
    "            geologic_index = 0\n",
    "        elif i == 0:\n",
    "            geologic_index = j * 16807\n",
    "        elif j == 0:\n",
    "            geologic_index = i * 48271\n",
    "        else:\n",
    "            geologic_index = erosion_level[i - 1, j] * erosion_level[i, j - 1]\n",
    "\n",
    "        erosion_level[i, j] = (geologic_index + depth) % 20183\n",
    "        region_type[i, j] = erosion_level[i, j] % 3\n",
    "\n",
    "print(sum(region_type.flatten()))\n"
   ]
  }
 ],
 "metadata": {
  "kernelspec": {
   "display_name": "Python 3",
   "language": "python",
   "name": "python3"
  },
  "language_info": {
   "codemirror_mode": {
    "name": "ipython",
    "version": 3
   },
   "file_extension": ".py",
   "mimetype": "text/x-python",
   "name": "python",
   "nbconvert_exporter": "python",
   "pygments_lexer": "ipython3",
   "version": "3.7.0"
  }
 },
 "nbformat": 4,
 "nbformat_minor": 2
}
