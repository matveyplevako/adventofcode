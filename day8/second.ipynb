{
 "cells": [
  {
   "cell_type": "code",
   "execution_count": 1,
   "metadata": {},
   "outputs": [],
   "source": [
    "from collections import defaultdict\n",
    "with open(\"input.txt\") as inp:\n",
    "    line = inp.readlines()[0]\n",
    "    line = list(map(int, line.split()))"
   ]
  },
  {
   "cell_type": "code",
   "execution_count": 2,
   "metadata": {},
   "outputs": [
    {
     "data": {
      "text/plain": [
       "24820"
      ]
     },
     "execution_count": 2,
     "metadata": {},
     "output_type": "execute_result"
    }
   ],
   "source": [
    "def parse(i=0, start_ind=0):\n",
    "    meta = defaultdict(lambda: 0)\n",
    "    num_of_childs = line[i]\n",
    "    num_of_meta = line[i + 1]\n",
    "    for child_num in range(1, num_of_childs+1):\n",
    "        i, child_meta = parse(i + 2)\n",
    "        meta[child_num] = child_meta\n",
    "\n",
    "    own_meta = line[i + 2:i + 2 + num_of_meta]\n",
    "    if num_of_childs == 0:\n",
    "        s = sum(own_meta)\n",
    "    else:\n",
    "        s = sum([meta[child_num] for child_num in own_meta])\n",
    "\n",
    "    i += num_of_meta\n",
    "    return i, s\n",
    "\n",
    "ans = parse()[1]\n",
    "ans"
   ]
  },
  {
   "cell_type": "code",
   "execution_count": 3,
   "metadata": {},
   "outputs": [],
   "source": [
    "with open(\"out2.txt\", \"w\") as out:\n",
    "    out.write(str(ans) + \"\\n\")"
   ]
  }
 ],
 "metadata": {
  "kernelspec": {
   "display_name": "Python 3",
   "language": "python",
   "name": "python3"
  },
  "language_info": {
   "codemirror_mode": {
    "name": "ipython",
    "version": 3
   },
   "file_extension": ".py",
   "mimetype": "text/x-python",
   "name": "python",
   "nbconvert_exporter": "python",
   "pygments_lexer": "ipython3",
   "version": "3.7.0"
  }
 },
 "nbformat": 4,
 "nbformat_minor": 2
}
