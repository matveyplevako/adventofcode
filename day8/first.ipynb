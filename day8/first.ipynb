{
 "cells": [
  {
   "cell_type": "code",
   "execution_count": 1,
   "metadata": {},
   "outputs": [],
   "source": [
    "with open(\"input.txt\") as inp:\n",
    "    line = inp.readlines()[0]\n",
    "    line = list(map(int, line.split()))"
   ]
  },
  {
   "cell_type": "code",
   "execution_count": 2,
   "metadata": {},
   "outputs": [
    {
     "data": {
      "text/plain": [
       "46096"
      ]
     },
     "execution_count": 2,
     "metadata": {},
     "output_type": "execute_result"
    }
   ],
   "source": [
    "def parse(i=0):\n",
    "    meta = 0\n",
    "    num_of_childs = line[i]\n",
    "    num_of_meta = line[i + 1]\n",
    "    for child_num in range(num_of_childs):\n",
    "        i, child_meta = parse(i + 2)\n",
    "        meta += child_meta\n",
    "    meta += sum(line[i+2:i+2 + num_of_meta])\n",
    "    i += num_of_meta\n",
    "    return i, meta\n",
    "\n",
    "ans = parse()[1]\n",
    "ans"
   ]
  },
  {
   "cell_type": "code",
   "execution_count": 3,
   "metadata": {},
   "outputs": [],
   "source": [
    "with open(\"out1.txt\", \"w\") as out:\n",
    "    out.write(str(ans) + \"\\n\")"
   ]
  }
 ],
 "metadata": {
  "kernelspec": {
   "display_name": "Python 3",
   "language": "python",
   "name": "python3"
  },
  "language_info": {
   "codemirror_mode": {
    "name": "ipython",
    "version": 3
   },
   "file_extension": ".py",
   "mimetype": "text/x-python",
   "name": "python",
   "nbconvert_exporter": "python",
   "pygments_lexer": "ipython3",
   "version": "3.7.0"
  }
 },
 "nbformat": 4,
 "nbformat_minor": 2
}
