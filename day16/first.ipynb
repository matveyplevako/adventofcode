{
 "cells": [
  {
   "cell_type": "code",
   "execution_count": 1,
   "metadata": {},
   "outputs": [
    {
     "name": "stdout",
     "output_type": "stream",
     "text": [
      "16\n"
     ]
    }
   ],
   "source": [
    "def addr(A, B, C):\n",
    "    registers[C] = registers[A] + registers[B]\n",
    "\n",
    "\n",
    "def addi(A, B, C):\n",
    "    registers[C] = registers[A] + B\n",
    "\n",
    "\n",
    "def mulr(A, B, C):\n",
    "    registers[C] = registers[A] * registers[B]\n",
    "\n",
    "\n",
    "def muli(A, B, C):\n",
    "    registers[C] = registers[A] * B\n",
    "\n",
    "\n",
    "def banr(A, B, C):\n",
    "    registers[C] = registers[A] & registers[B]\n",
    "\n",
    "\n",
    "def bani(A, B, C):\n",
    "    registers[C] = registers[A] & B\n",
    "\n",
    "\n",
    "def borr(A, B, C):\n",
    "    registers[C] = registers[A] | registers[B]\n",
    "\n",
    "\n",
    "def bori(A, B, C):\n",
    "    registers[C] = registers[A] | B\n",
    "\n",
    "\n",
    "def setr(A, B, C):\n",
    "    registers[C] = registers[A]\n",
    "\n",
    "\n",
    "def seti(A, B, C):\n",
    "    registers[C] = A\n",
    "\n",
    "\n",
    "def gtir(A, B, C):\n",
    "    registers[C] = int(A > registers[B])\n",
    "\n",
    "\n",
    "def gtri(A, B, C):\n",
    "    registers[C] = int(registers[A] > B)\n",
    "\n",
    "\n",
    "def gtrr(A, B, C):\n",
    "    registers[C] = int(registers[A] > registers[B])\n",
    "\n",
    "\n",
    "def eqir(A, B, C):\n",
    "    registers[C] = int(A == registers[B])\n",
    "\n",
    "\n",
    "def eqri(A, B, C):\n",
    "    registers[C] = int(registers[A] == B)\n",
    "\n",
    "\n",
    "def eqrr(A, B, C):\n",
    "    registers[C] = int(registers[A] == registers[B])\n",
    "\n",
    "\n",
    "opcodes = [addr, addi, mulr, muli, banr, bani, borr, bori, setr, seti, gtir, gtri, gtrr, eqir, eqri, eqrr]\n",
    "\n",
    "print(len(opcodes))"
   ]
  },
  {
   "cell_type": "code",
   "execution_count": 2,
   "metadata": {},
   "outputs": [
    {
     "name": "stdout",
     "output_type": "stream",
     "text": [
      "596\n"
     ]
    }
   ],
   "source": [
    "satisfy = 0\n",
    "\n",
    "with open(\"input.txt\") as inp:\n",
    "    inst = list(map(lambda x: x.rstrip(), inp.readlines()))\n",
    "    i = 0\n",
    "    while inst[i]:\n",
    "        start_registers = list(map(int, inst[i].replace(\"Before: [\", \"\").replace(\"]\", \"\").split(\", \")))\n",
    "        instruction = list(map(int, inst[i+1].split()))\n",
    "        result = list(map(int, inst[i+2].replace(\"After:  [\", \"\").replace(\"]\", \"\").split(\", \")))\n",
    "        does_satisfy = 0\n",
    "        for op in opcodes:\n",
    "            registers = {i: start_registers[i] for i in range(4)}\n",
    "            op(*instruction[1:])\n",
    "            if [registers[i] for i in range(4)] == result:\n",
    "                does_satisfy += 1\n",
    "        if does_satisfy >= 3:\n",
    "            satisfy += 1\n",
    "        i += 4\n",
    "\n",
    "print(satisfy)"
   ]
  }
 ],
 "metadata": {
  "kernelspec": {
   "display_name": "Python 3",
   "language": "python",
   "name": "python3"
  },
  "language_info": {
   "codemirror_mode": {
    "name": "ipython",
    "version": 3
   },
   "file_extension": ".py",
   "mimetype": "text/x-python",
   "name": "python",
   "nbconvert_exporter": "python",
   "pygments_lexer": "ipython3",
   "version": "3.7.0"
  }
 },
 "nbformat": 4,
 "nbformat_minor": 2
}
