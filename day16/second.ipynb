{
 "cells": [
  {
   "cell_type": "code",
   "execution_count": 1,
   "metadata": {},
   "outputs": [
    {
     "name": "stdout",
     "output_type": "stream",
     "text": [
      "16\n"
     ]
    }
   ],
   "source": [
    "def addr(A, B, C):\n",
    "    registers[C] = registers[A] + registers[B]\n",
    "\n",
    "\n",
    "def addi(A, B, C):\n",
    "    registers[C] = registers[A] + B\n",
    "\n",
    "\n",
    "def mulr(A, B, C):\n",
    "    registers[C] = registers[A] * registers[B]\n",
    "\n",
    "\n",
    "def muli(A, B, C):\n",
    "    registers[C] = registers[A] * B\n",
    "\n",
    "\n",
    "def banr(A, B, C):\n",
    "    registers[C] = registers[A] & registers[B]\n",
    "\n",
    "\n",
    "def bani(A, B, C):\n",
    "    registers[C] = registers[A] & B\n",
    "\n",
    "\n",
    "def borr(A, B, C):\n",
    "    registers[C] = registers[A] | registers[B]\n",
    "\n",
    "\n",
    "def bori(A, B, C):\n",
    "    registers[C] = registers[A] | B\n",
    "\n",
    "\n",
    "def setr(A, B, C):\n",
    "    registers[C] = registers[A]\n",
    "\n",
    "\n",
    "def seti(A, B, C):\n",
    "    registers[C] = A\n",
    "\n",
    "\n",
    "def gtir(A, B, C):\n",
    "    registers[C] = int(A > registers[B])\n",
    "\n",
    "\n",
    "def gtri(A, B, C):\n",
    "    registers[C] = int(registers[A] > B)\n",
    "\n",
    "\n",
    "def gtrr(A, B, C):\n",
    "    registers[C] = int(registers[A] > registers[B])\n",
    "\n",
    "\n",
    "def eqir(A, B, C):\n",
    "    registers[C] = int(A == registers[B])\n",
    "\n",
    "\n",
    "def eqri(A, B, C):\n",
    "    registers[C] = int(registers[A] == B)\n",
    "\n",
    "\n",
    "def eqrr(A, B, C):\n",
    "    registers[C] = int(registers[A] == registers[B])\n",
    "\n",
    "\n",
    "def set_unique_op_to_code():\n",
    "    def fill_known():\n",
    "        for code in code_to_op:\n",
    "            if len(code_to_op[code]) == 1:\n",
    "                known.update(code_to_op[code])\n",
    "\n",
    "    def filled():\n",
    "        return all([len(code_to_op[code]) == 1 for code in code_to_op])\n",
    "\n",
    "    known = set()\n",
    "    while not filled():\n",
    "        fill_known()\n",
    "        for known_op in known:\n",
    "            for code in code_to_op:\n",
    "                if len(code_to_op[code]) != 1:\n",
    "                    code_to_op[code] -= {known_op}\n",
    "    for code in code_to_op:\n",
    "        code_to_op[code] = next(iter(code_to_op[code]))\n",
    "\n",
    "\n",
    "opcodes = [addr, addi, mulr, muli, banr, bani, borr, bori, setr, seti, gtir, gtri, gtrr, eqir, eqri, eqrr]\n",
    "print(len(opcodes))"
   ]
  },
  {
   "cell_type": "code",
   "execution_count": 2,
   "metadata": {},
   "outputs": [],
   "source": [
    "code_to_op = {i: set(opcodes) for i in range(len(opcodes))}\n",
    "\n",
    "with open(\"input.txt\") as inp:\n",
    "    inst = list(map(lambda x: x.rstrip(), inp.readlines()))\n",
    "    i = 0\n",
    "    while inst[i]:\n",
    "        start_registers = list(map(int, inst[i].replace(\"Before: [\", \"\").replace(\"]\", \"\").split(\", \")))\n",
    "        instruction = list(map(int, inst[i + 1].split()))\n",
    "        result = list(map(int, inst[i + 2].replace(\"After:  [\", \"\").replace(\"]\", \"\").split(\", \")))\n",
    "        ops_satisfy = set()\n",
    "        for op in opcodes:\n",
    "            registers = {i: start_registers[i] for i in range(4)}\n",
    "            op(*instruction[1:])\n",
    "            if [registers[i] for i in range(4)] == result:\n",
    "                ops_satisfy.add(op)\n",
    "        code_to_op[instruction[0]] = ops_satisfy & code_to_op[instruction[0]]\n",
    "        i += 4"
   ]
  },
  {
   "cell_type": "code",
   "execution_count": 3,
   "metadata": {},
   "outputs": [
    {
     "name": "stdout",
     "output_type": "stream",
     "text": [
      "554\n"
     ]
    }
   ],
   "source": [
    "set_unique_op_to_code()\n",
    "\n",
    "# cursor to start of next block\n",
    "i += 2\n",
    "rs = list(map(int, inst[i].split()))\n",
    "registers = {i: rs[i] for i in range(4)}\n",
    "i += 1\n",
    "for line_num in range(i, len(inst)):\n",
    "    instruction = list(map(int, inst[line_num].split()))\n",
    "    code_to_op[instruction[0]](*instruction[1:])\n",
    "\n",
    "print(registers[0])"
   ]
  }
 ],
 "metadata": {
  "kernelspec": {
   "display_name": "Python 3",
   "language": "python",
   "name": "python3"
  },
  "language_info": {
   "codemirror_mode": {
    "name": "ipython",
    "version": 3
   },
   "file_extension": ".py",
   "mimetype": "text/x-python",
   "name": "python",
   "nbconvert_exporter": "python",
   "pygments_lexer": "ipython3",
   "version": "3.7.0"
  }
 },
 "nbformat": 4,
 "nbformat_minor": 2
}
