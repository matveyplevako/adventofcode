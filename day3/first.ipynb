{
 "cells": [
  {
   "cell_type": "code",
   "execution_count": 60,
   "metadata": {},
   "outputs": [],
   "source": [
    "def range_of_overlap(sq1, sq2):\n",
    "    x1, x2, y1, y2 = sq1\n",
    "    x3, x4, y3, y4 = sq2\n",
    "    x_overlap = ()\n",
    "    y_overlap = ()\n",
    "    if x2 >= x3 and x4 >= x1:\n",
    "        x_overlap = (max(x1, x3), min(x2, x4))\n",
    "    if y4 >= y1 and y2 >= y3:\n",
    "        y_overlap = (max(y1, y3), min(y2, y4))\n",
    "    return x_overlap, y_overlap"
   ]
  },
  {
   "cell_type": "code",
   "execution_count": 84,
   "metadata": {},
   "outputs": [],
   "source": [
    "with open(\"input.txt\") as inp:\n",
    "    rectangles = set()\n",
    "    points_overlap = set()\n",
    "    for line in inp.readlines():\n",
    "        id_, pos = line.split(\"@\")\n",
    "        pos = pos.split(\":\")\n",
    "        x, y = map(int, pos[0].split(\",\"))\n",
    "        x_end, y_end = map(int, pos[1].split(\"x\"))\n",
    "        x_end += x\n",
    "        y_end += y\n",
    "        claim = (x, x_end, y, y_end)\n",
    "        for rect in rectangles:\n",
    "            x, y = range_of_overlap(claim, rect)\n",
    "            if len(x) != 0 and len(y) != 0:\n",
    "                points_overlap.update([(i, j) for i in range(x[0], x[1]) for j in range(y[0], y[1])])\n",
    "        rectangles.add(claim)\n",
    "        \n",
    "ans = len(points_overlap)"
   ]
  },
  {
   "cell_type": "code",
   "execution_count": 83,
   "metadata": {},
   "outputs": [],
   "source": [
    "with open(\"out1.txt\", \"w\") as out:\n",
    "    out.write(str(ans) + \"\\n\")"
   ]
  }
 ],
 "metadata": {
  "kernelspec": {
   "display_name": "Python 3",
   "language": "python",
   "name": "python3"
  },
  "language_info": {
   "codemirror_mode": {
    "name": "ipython",
    "version": 3
   },
   "file_extension": ".py",
   "mimetype": "text/x-python",
   "name": "python",
   "nbconvert_exporter": "python",
   "pygments_lexer": "ipython3",
   "version": "3.7.0"
  }
 },
 "nbformat": 4,
 "nbformat_minor": 2
}
