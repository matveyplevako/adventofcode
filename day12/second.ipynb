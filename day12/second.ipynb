{
 "cells": [
  {
   "cell_type": "code",
   "execution_count": 1,
   "metadata": {},
   "outputs": [
    {
     "data": {
      "text/plain": [
       "2550000001195"
      ]
     },
     "execution_count": 1,
     "metadata": {},
     "output_type": "execute_result"
    }
   ],
   "source": [
    "spread = {}\n",
    "\n",
    "with open(\"input.txt\") as inp:\n",
    "    state = list(inp.readline().split()[-1])\n",
    "    inp.readline()\n",
    "    for line in map(lambda x: x.rstrip(), inp.readlines()):\n",
    "        pos, next_gen = line.split()[::2]\n",
    "        spread[pos] = next_gen\n",
    "        \n",
    "\n",
    "\n",
    "def move(state, gen=1, c=0):\n",
    "    for i in range(gen):\n",
    "        str_state = ''.join(state)\n",
    "        state = list(\"....\") + state + list(\".....\")\n",
    "        c += 4\n",
    "        new_state = state.copy()\n",
    "        for position in range(len(state) - 4):\n",
    "            assert position + 4 < len(state)\n",
    "            next_gen = spread[''.join(state[position:position + 5])]\n",
    "            new_state[position + 2] = next_gen\n",
    "\n",
    "        ind = new_state.index(\"#\")\n",
    "        r_ind = len(new_state) - 1 - new_state[::-1].index(\"#\")\n",
    "        c -= ind\n",
    "        new_state = new_state[ind:r_ind + 1]\n",
    "        state = new_state\n",
    "\n",
    "    return state, c\n",
    "\n",
    "\n",
    "def to_sum(state, c):\n",
    "    if c > 0:\n",
    "        return sum([ind for ind, elem in enumerate(state[c:]) if elem == \"#\"]) - \\\n",
    "               sum([ind for ind, elem in enumerate(state[:c][::-1]) if elem == \"#\"])\n",
    "    else:\n",
    "        return sum([ind - c for ind, elem in enumerate(state) if elem == \"#\"])\n",
    "\n",
    "\n",
    "state, c = move(state, 99)\n",
    "total = 50 * 10 ** 9 - 99\n",
    "c -= total\n",
    "pot_sum = to_sum(state, c)\n",
    "ans = pot_sum\n",
    "ans"
   ]
  },
  {
   "cell_type": "code",
   "execution_count": 2,
   "metadata": {},
   "outputs": [],
   "source": [
    "with open(\"out2.txt\", \"w\") as out:\n",
    "    out.write(str(ans) + \"\\n\")"
   ]
  }
 ],
 "metadata": {
  "kernelspec": {
   "display_name": "Python 3",
   "language": "python",
   "name": "python3"
  },
  "language_info": {
   "codemirror_mode": {
    "name": "ipython",
    "version": 3
   },
   "file_extension": ".py",
   "mimetype": "text/x-python",
   "name": "python",
   "nbconvert_exporter": "python",
   "pygments_lexer": "ipython3",
   "version": "3.7.0"
  }
 },
 "nbformat": 4,
 "nbformat_minor": 2
}
