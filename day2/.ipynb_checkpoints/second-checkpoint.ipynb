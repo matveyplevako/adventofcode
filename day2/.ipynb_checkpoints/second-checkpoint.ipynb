{
 "cells": [
  {
   "cell_type": "code",
   "execution_count": 32,
   "metadata": {},
   "outputs": [],
   "source": [
    "from collections import Counter"
   ]
  },
  {
   "cell_type": "code",
   "execution_count": 30,
   "metadata": {},
   "outputs": [],
   "source": [
    "def differ_by(s1, s2):\n",
    "    \n",
    "    return sum([s1[i] != s2[i] for i in range(min(len(s1), len(s2)))])\n",
    "\n",
    "with open(\"input.txt\") as inp:\n",
    "    lines = inp.readlines()\n",
    "    sorted_lines = sorted(lines)\n",
    "    for line_index in range(len(sorted_lines)-1):\n",
    "        if differ_by(sorted_lines[line_index], sorted_lines[line_index+1]) == 1:\n",
    "            first = sorted_lines[line_index]\n",
    "            second = sorted_lines[line_index+1]\n",
    "            ans = [first[i] for i in range(len(first)) if first[i] == second[i]]"
   ]
  },
  {
   "cell_type": "code",
   "execution_count": 31,
   "metadata": {},
   "outputs": [],
   "source": [
    "with open(\"out2.txt\", \"w\") as out:\n",
    "    out.write(''.join(ans))"
   ]
  }
 ],
 "metadata": {
  "kernelspec": {
   "display_name": "Python 3",
   "language": "python",
   "name": "python3"
  },
  "language_info": {
   "codemirror_mode": {
    "name": "ipython",
    "version": 3
   },
   "file_extension": ".py",
   "mimetype": "text/x-python",
   "name": "python",
   "nbconvert_exporter": "python",
   "pygments_lexer": "ipython3",
   "version": "3.7.0"
  }
 },
 "nbformat": 4,
 "nbformat_minor": 2
}
