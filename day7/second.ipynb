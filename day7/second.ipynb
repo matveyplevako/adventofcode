{
 "cells": [
  {
   "cell_type": "code",
   "execution_count": 1,
   "metadata": {},
   "outputs": [],
   "source": [
    "from collections import defaultdict"
   ]
  },
  {
   "cell_type": "code",
   "execution_count": 2,
   "metadata": {},
   "outputs": [
    {
     "data": {
      "text/plain": [
       "917"
      ]
     },
     "execution_count": 2,
     "metadata": {},
     "output_type": "execute_result"
    }
   ],
   "source": [
    "num_of_workers = 5\n",
    "directions = defaultdict(lambda: [])\n",
    "need_to_complete = defaultdict(lambda: 0)\n",
    "points = set()\n",
    "with open(\"input.txt\") as inp:\n",
    "    for line in inp.readlines():\n",
    "        start, end = line.split()[1:8:6]\n",
    "        need_to_complete[end] += 1\n",
    "        directions[start].append(end)\n",
    "        points.add(start)\n",
    "        points.add(end)\n",
    "\n",
    "def get_aval():\n",
    "    aval = []\n",
    "    global points, need_to_complete\n",
    "    for p in points:\n",
    "        if need_to_complete[p] == 0:\n",
    "            aval.append(p)\n",
    "    return sorted(aval)\n",
    "\n",
    "\n",
    "def remove_points_that_on_time(sec):\n",
    "    global point_to_time_remove, points, need_to_complete, workers_aval\n",
    "    done = len(point_to_time_remove[sec])\n",
    "    for p in point_to_time_remove[sec]:\n",
    "        points.remove(p)\n",
    "        workers_aval[sec] += 1\n",
    "        for subp in directions[p]:\n",
    "            need_to_complete[subp] -= 1\n",
    "    return done\n",
    "\n",
    "\n",
    "aval_points = points.copy()\n",
    "workers_aval = defaultdict(lambda: 0)\n",
    "in_prog = 0\n",
    "sec = 0\n",
    "workers_aval[sec] = num_of_workers\n",
    "point_to_time_remove = defaultdict(lambda: [])\n",
    "\n",
    "while in_prog > 0 or sec == 0:\n",
    "    in_prog -= remove_points_that_on_time(sec)\n",
    "    to_del = get_aval()\n",
    "    for p in to_del:\n",
    "        if workers_aval[sec] > 0 and p in aval_points:\n",
    "            int_repr = ord(p) - 4\n",
    "            workers_aval[sec + int_repr] += 1\n",
    "            in_prog += 1\n",
    "            workers_aval[sec] -= 1\n",
    "            point_to_time_remove[sec + int_repr].append(p)\n",
    "            aval_points.remove(p)\n",
    "\n",
    "    workers_aval[sec + 1] = workers_aval[sec]\n",
    "    sec += 1\n",
    "\n",
    "ans = sec - 1\n",
    "ans"
   ]
  },
  {
   "cell_type": "code",
   "execution_count": 3,
   "metadata": {},
   "outputs": [],
   "source": [
    "with open(\"out2.txt\", \"w\") as out:\n",
    "    out.write(str(ans) + \"\\n\")"
   ]
  }
 ],
 "metadata": {
  "kernelspec": {
   "display_name": "Python 3",
   "language": "python",
   "name": "python3"
  },
  "language_info": {
   "codemirror_mode": {
    "name": "ipython",
    "version": 3
   },
   "file_extension": ".py",
   "mimetype": "text/x-python",
   "name": "python",
   "nbconvert_exporter": "python",
   "pygments_lexer": "ipython3",
   "version": "3.7.0"
  }
 },
 "nbformat": 4,
 "nbformat_minor": 2
}
